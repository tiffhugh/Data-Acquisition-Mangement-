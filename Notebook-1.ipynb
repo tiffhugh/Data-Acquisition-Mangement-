{
    "metadata": {
        "kernelspec": {
            "name": "SQL",
            "display_name": "SQL",
            "language": "sql"
        },
        "language_info": {
            "name": "sql",
            "version": ""
        }
    },
    "nbformat_minor": 2,
    "nbformat": 4,
    "cells": [
        {
            "cell_type": "code",
            "source": [
                "Creating tables: movie name, participants, and ranking "
            ],
            "metadata": {
                "azdata_cell_guid": "507aaef4-e7ea-4915-ba41-151c02aa7f7b",
                "language": "sql"
            },
            "outputs": [
                {
                    "output_type": "error",
                    "evalue": "Msg 102, Level 15, State 1, Line 1\r\nIncorrect syntax near 'movie'.",
                    "ename": "",
                    "traceback": []
                },
                {
                    "output_type": "display_data",
                    "data": {
                        "text/html": "Total execution time: 00:00:00.001"
                    },
                    "metadata": {}
                }
            ],
            "execution_count": 10
        },
        {
            "cell_type": "code",
            "source": [
                "CREATE TABLE [dbo].[Movie Name] (\r\n",
                "    [movie_id]   INT          NOT NULL,\r\n",
                "    [movie_name] VARCHAR (50) NULL,\r\n",
                "    CONSTRAINT [PK_Movie Name] PRIMARY KEY CLUSTERED ([movie_id] ASC)\r\n",
                ");"
            ],
            "metadata": {
                "azdata_cell_guid": "6ac79259-febb-4de3-96f8-b6d8f1864dec",
                "language": "sql",
                "tags": []
            },
            "outputs": [
                {
                    "output_type": "error",
                    "evalue": "Msg 2714, Level 16, State 6, Line 1\r\nThere is already an object named 'Movie Name' in the database.",
                    "ename": "",
                    "traceback": []
                },
                {
                    "output_type": "display_data",
                    "data": {
                        "text/html": "Total execution time: 00:00:00.005"
                    },
                    "metadata": {}
                }
            ],
            "execution_count": 11
        },
        {
            "cell_type": "code",
            "source": [
                "CREATE TABLE [dbo].[Participant] (\r\n",
                "    [participant_id]   INT          NOT NULL,\r\n",
                "    [participant_name] VARCHAR (50) NULL\r\n",
                ");\r\n",
                "CREATE TABLE [dbo].[Ranking] (\r\n",
                "    [ranking_id]     INT NOT NULL,\r\n",
                "    [participant_id] INT NULL,\r\n",
                "    [movie_id]       INT NULL,\r\n",
                "    [ranking]        INT CHECK (ranking BETWEEN 1 AND 5),\r\n",
                "    FOREIGN KEY (participant_id) REFERENCES [dbo].[Participant](participant_id),\r\n",
                "    FOREIGN KEY (movie_id) REFERENCES [dbo].[Movie Name](movie_id)\r\n",
                ");"
            ],
            "metadata": {
                "azdata_cell_guid": "4807870b-82fd-478a-b1bd-50e41f6f93c5",
                "language": "sql",
                "tags": []
            },
            "outputs": [
                {
                    "output_type": "error",
                    "evalue": "Msg 2714, Level 16, State 6, Line 1\r\nThere is already an object named 'Participant' in the database.",
                    "ename": "",
                    "traceback": []
                },
                {
                    "output_type": "display_data",
                    "data": {
                        "text/html": "Total execution time: 00:00:00.004"
                    },
                    "metadata": {}
                }
            ],
            "execution_count": 12
        },
        {
            "cell_type": "markdown",
            "source": [
                "Writitng in the data information for the movie and pt names"
            ],
            "metadata": {
                "azdata_cell_guid": "09bf8089-7194-4359-bdc8-95bec4935bf3"
            },
            "attachments": {}
        },
        {
            "cell_type": "code",
            "source": [
                "INSERT INTO [Movie Name] (movie_id, movie_name) VALUES\r\n",
                "(1, 'The Exorcism'),\r\n",
                "(2, 'Tarot'),\r\n",
                "(3, 'Immaculate'),\r\n",
                "(4, 'The Watchers'),\r\n",
                "(5, 'Oddity'),\r\n",
                "(6, 'The Deliverance');"
            ],
            "metadata": {
                "azdata_cell_guid": "d31218b0-924d-4737-9081-f75e77f1f784",
                "language": "sql",
                "tags": []
            },
            "outputs": [
                {
                    "output_type": "display_data",
                    "data": {
                        "text/html": "(6 rows affected)"
                    },
                    "metadata": {}
                },
                {
                    "output_type": "display_data",
                    "data": {
                        "text/html": "Total execution time: 00:00:00.014"
                    },
                    "metadata": {}
                }
            ],
            "execution_count": 14
        },
        {
            "cell_type": "code",
            "source": [
                "INSERT INTO [Participant] (participant_id, participant_name) VALUES\r\n",
                "(1, 'Kim'),\r\n",
                "(2, 'Peter'),\r\n",
                "(3, 'Timothy'),\r\n",
                "(4, 'Bibi'),\r\n",
                "(5, 'Susan'),\r\n",
                "(6, 'Gabe');"
            ],
            "metadata": {
                "language": "sql",
                "azdata_cell_guid": "62bf5909-78b0-45d1-a18b-2b1f8e2d77e4",
                "tags": [
                    "hide_input"
                ]
            },
            "outputs": [
                {
                    "output_type": "display_data",
                    "data": {
                        "text/html": "(6 rows affected)"
                    },
                    "metadata": {}
                },
                {
                    "output_type": "display_data",
                    "data": {
                        "text/html": "Total execution time: 00:00:00.010"
                    },
                    "metadata": {}
                }
            ],
            "execution_count": 15
        },
        {
            "cell_type": "markdown",
            "source": [
                "id name  \n",
                "\n",
                "SELECT participant\\_id, participant\\_name FROM \\[Participant\\];\n",
                "\n",
                "SELECT movie\\_id, movie\\_name FROM \\[Movie Name\\];"
            ],
            "metadata": {
                "azdata_cell_guid": "c0cf9346-a913-41b8-94de-80c13d0a861b"
            },
            "attachments": {}
        },
        {
            "cell_type": "code",
            "source": [
                "INSERT INTO [Ranking] (ranking_id, participant_id, movie_id, ranking) VALUES\r\n",
                "(1, 1, 1, 5),  -- Kim \r\n",
                "(2, 1, 2, 4), \r\n",
                "(3, 1, 3, 0), \r\n",
                "(4, 1, 4, 3), \r\n",
                "(5, 1, 5, 0), \r\n",
                "(6, 1, 6, 4),\r\n",
                "(7, 2, 1, 3),  -- Peter\r\n",
                "(8, 2, 2, 0),  \r\n",
                "(9, 2, 3, 5),  \r\n",
                "(10, 2, 4, 0),  \r\n",
                "(11, 2, 5, 4), \r\n",
                "(12, 2, 6, 0),\r\n",
                "(13, 3, 1, 0),  -- Timothy\r\n",
                "(14, 3, 2, 3),  \r\n",
                "(15, 3, 3, 4), \r\n",
                "(16, 3, 4, 2),  \r\n",
                "(17, 3, 5, 0),  \r\n",
                "(18, 3, 6, 5),\r\n",
                "(19, 4, 1, 0),  -- Bibi\r\n",
                "(20, 4, 2, 4), \r\n",
                "(21, 4, 3, 0),  \r\n",
                "(22, 4, 4, 3),  \r\n",
                "(23, 4, 5, 2),  \r\n",
                "(24, 4, 6, 0),\r\n",
                "(25, 5, 1, 4),  -- Susan\r\n",
                "(26, 5, 2, 0), \r\n",
                "(27, 5, 3, 3), \r\n",
                "(28, 5, 4, 0),  \r\n",
                "(29, 5, 5, 5), \r\n",
                "(30, 5, 6, 2),\r\n",
                "(31, 6, 1, 4),  -- Gabe\r\n",
                "(32, 6, 2, 5), \r\n",
                "(33, 6, 3, 3),  \r\n",
                "(34, 6, 4, 2),  \r\n",
                "(35, 6, 5, 1),  \r\n",
                "(36, 6, 6, 4);"
            ],
            "metadata": {
                "azdata_cell_guid": "ba9c2c5a-15ea-40a1-9d93-2a4eccecd555",
                "language": "sql"
            },
            "outputs": [
                {
                    "output_type": "display_data",
                    "data": {
                        "text/html": "(36 rows affected)"
                    },
                    "metadata": {}
                },
                {
                    "output_type": "display_data",
                    "data": {
                        "text/html": "Total execution time: 00:00:00.015"
                    },
                    "metadata": {}
                }
            ],
            "execution_count": 19
        },
        {
            "cell_type": "code",
            "source": [
                "SELECT @@SERVERNAME AS 'Server Name';\r\n",
                ""
            ],
            "metadata": {
                "azdata_cell_guid": "4687d555-de15-4c31-827c-1f3ba97008b8",
                "language": "sql",
                "tags": [
                    "hide_input"
                ]
            },
            "outputs": [
                {
                    "output_type": "display_data",
                    "data": {
                        "text/html": "(1 row affected)"
                    },
                    "metadata": {}
                },
                {
                    "output_type": "display_data",
                    "data": {
                        "text/html": "Total execution time: 00:00:00.016"
                    },
                    "metadata": {}
                },
                {
                    "output_type": "execute_result",
                    "metadata": {},
                    "execution_count": 2,
                    "data": {
                        "application/vnd.dataresource+json": {
                            "schema": {
                                "fields": [
                                    {
                                        "name": "Server Name"
                                    }
                                ]
                            },
                            "data": [
                                {
                                    "Server Name": "Milo"
                                }
                            ]
                        },
                        "text/html": [
                            "<table>",
                            "<tr><th>Server Name</th></tr>",
                            "<tr><td>Milo</td></tr>",
                            "</table>"
                        ]
                    }
                }
            ],
            "execution_count": 2
        },
        {
            "cell_type": "code",
            "source": [
                "SELECT * FROM Ranking;\r\n",
                ""
            ],
            "metadata": {
                "azdata_cell_guid": "491e5ad8-295c-457f-8f42-7ad5b9aa27b2",
                "language": "sql"
            },
            "outputs": [
                {
                    "output_type": "display_data",
                    "data": {
                        "text/html": "(36 rows affected)"
                    },
                    "metadata": {}
                },
                {
                    "output_type": "display_data",
                    "data": {
                        "text/html": "Total execution time: 00:00:00.057"
                    },
                    "metadata": {}
                },
                {
                    "output_type": "execute_result",
                    "metadata": {},
                    "execution_count": 8,
                    "data": {
                        "application/vnd.dataresource+json": {
                            "schema": {
                                "fields": [
                                    {
                                        "name": "ranking_id"
                                    },
                                    {
                                        "name": "participant_id"
                                    },
                                    {
                                        "name": "movie_id"
                                    },
                                    {
                                        "name": "ranking"
                                    }
                                ]
                            },
                            "data": [
                                {
                                    "ranking_id": "1",
                                    "participant_id": "1",
                                    "movie_id": "1",
                                    "ranking": "5"
                                },
                                {
                                    "ranking_id": "2",
                                    "participant_id": "1",
                                    "movie_id": "2",
                                    "ranking": "4"
                                },
                                {
                                    "ranking_id": "3",
                                    "participant_id": "1",
                                    "movie_id": "3",
                                    "ranking": "0"
                                },
                                {
                                    "ranking_id": "4",
                                    "participant_id": "1",
                                    "movie_id": "4",
                                    "ranking": "3"
                                },
                                {
                                    "ranking_id": "5",
                                    "participant_id": "1",
                                    "movie_id": "5",
                                    "ranking": "0"
                                },
                                {
                                    "ranking_id": "6",
                                    "participant_id": "1",
                                    "movie_id": "6",
                                    "ranking": "4"
                                },
                                {
                                    "ranking_id": "7",
                                    "participant_id": "2",
                                    "movie_id": "1",
                                    "ranking": "3"
                                },
                                {
                                    "ranking_id": "8",
                                    "participant_id": "2",
                                    "movie_id": "2",
                                    "ranking": "0"
                                },
                                {
                                    "ranking_id": "9",
                                    "participant_id": "2",
                                    "movie_id": "3",
                                    "ranking": "5"
                                },
                                {
                                    "ranking_id": "10",
                                    "participant_id": "2",
                                    "movie_id": "4",
                                    "ranking": "0"
                                },
                                {
                                    "ranking_id": "11",
                                    "participant_id": "2",
                                    "movie_id": "5",
                                    "ranking": "4"
                                },
                                {
                                    "ranking_id": "12",
                                    "participant_id": "2",
                                    "movie_id": "6",
                                    "ranking": "0"
                                },
                                {
                                    "ranking_id": "13",
                                    "participant_id": "3",
                                    "movie_id": "1",
                                    "ranking": "0"
                                },
                                {
                                    "ranking_id": "14",
                                    "participant_id": "3",
                                    "movie_id": "2",
                                    "ranking": "3"
                                },
                                {
                                    "ranking_id": "15",
                                    "participant_id": "3",
                                    "movie_id": "3",
                                    "ranking": "4"
                                },
                                {
                                    "ranking_id": "16",
                                    "participant_id": "3",
                                    "movie_id": "4",
                                    "ranking": "2"
                                },
                                {
                                    "ranking_id": "17",
                                    "participant_id": "3",
                                    "movie_id": "5",
                                    "ranking": "0"
                                },
                                {
                                    "ranking_id": "18",
                                    "participant_id": "3",
                                    "movie_id": "6",
                                    "ranking": "5"
                                },
                                {
                                    "ranking_id": "19",
                                    "participant_id": "4",
                                    "movie_id": "1",
                                    "ranking": "0"
                                },
                                {
                                    "ranking_id": "20",
                                    "participant_id": "4",
                                    "movie_id": "2",
                                    "ranking": "4"
                                },
                                {
                                    "ranking_id": "21",
                                    "participant_id": "4",
                                    "movie_id": "3",
                                    "ranking": "0"
                                },
                                {
                                    "ranking_id": "22",
                                    "participant_id": "4",
                                    "movie_id": "4",
                                    "ranking": "3"
                                },
                                {
                                    "ranking_id": "23",
                                    "participant_id": "4",
                                    "movie_id": "5",
                                    "ranking": "2"
                                },
                                {
                                    "ranking_id": "24",
                                    "participant_id": "4",
                                    "movie_id": "6",
                                    "ranking": "0"
                                },
                                {
                                    "ranking_id": "25",
                                    "participant_id": "5",
                                    "movie_id": "1",
                                    "ranking": "4"
                                },
                                {
                                    "ranking_id": "26",
                                    "participant_id": "5",
                                    "movie_id": "2",
                                    "ranking": "0"
                                },
                                {
                                    "ranking_id": "27",
                                    "participant_id": "5",
                                    "movie_id": "3",
                                    "ranking": "3"
                                },
                                {
                                    "ranking_id": "28",
                                    "participant_id": "5",
                                    "movie_id": "4",
                                    "ranking": "0"
                                },
                                {
                                    "ranking_id": "29",
                                    "participant_id": "5",
                                    "movie_id": "5",
                                    "ranking": "5"
                                },
                                {
                                    "ranking_id": "30",
                                    "participant_id": "5",
                                    "movie_id": "6",
                                    "ranking": "2"
                                },
                                {
                                    "ranking_id": "31",
                                    "participant_id": "6",
                                    "movie_id": "1",
                                    "ranking": "4"
                                },
                                {
                                    "ranking_id": "32",
                                    "participant_id": "6",
                                    "movie_id": "2",
                                    "ranking": "5"
                                },
                                {
                                    "ranking_id": "33",
                                    "participant_id": "6",
                                    "movie_id": "3",
                                    "ranking": "3"
                                },
                                {
                                    "ranking_id": "34",
                                    "participant_id": "6",
                                    "movie_id": "4",
                                    "ranking": "2"
                                },
                                {
                                    "ranking_id": "35",
                                    "participant_id": "6",
                                    "movie_id": "5",
                                    "ranking": "1"
                                },
                                {
                                    "ranking_id": "36",
                                    "participant_id": "6",
                                    "movie_id": "6",
                                    "ranking": "4"
                                }
                            ]
                        },
                        "text/html": [
                            "<table>",
                            "<tr><th>ranking_id</th><th>participant_id</th><th>movie_id</th><th>ranking</th></tr>",
                            "<tr><td>1</td><td>1</td><td>1</td><td>5</td></tr>",
                            "<tr><td>2</td><td>1</td><td>2</td><td>4</td></tr>",
                            "<tr><td>3</td><td>1</td><td>3</td><td>0</td></tr>",
                            "<tr><td>4</td><td>1</td><td>4</td><td>3</td></tr>",
                            "<tr><td>5</td><td>1</td><td>5</td><td>0</td></tr>",
                            "<tr><td>6</td><td>1</td><td>6</td><td>4</td></tr>",
                            "<tr><td>7</td><td>2</td><td>1</td><td>3</td></tr>",
                            "<tr><td>8</td><td>2</td><td>2</td><td>0</td></tr>",
                            "<tr><td>9</td><td>2</td><td>3</td><td>5</td></tr>",
                            "<tr><td>10</td><td>2</td><td>4</td><td>0</td></tr>",
                            "<tr><td>11</td><td>2</td><td>5</td><td>4</td></tr>",
                            "<tr><td>12</td><td>2</td><td>6</td><td>0</td></tr>",
                            "<tr><td>13</td><td>3</td><td>1</td><td>0</td></tr>",
                            "<tr><td>14</td><td>3</td><td>2</td><td>3</td></tr>",
                            "<tr><td>15</td><td>3</td><td>3</td><td>4</td></tr>",
                            "<tr><td>16</td><td>3</td><td>4</td><td>2</td></tr>",
                            "<tr><td>17</td><td>3</td><td>5</td><td>0</td></tr>",
                            "<tr><td>18</td><td>3</td><td>6</td><td>5</td></tr>",
                            "<tr><td>19</td><td>4</td><td>1</td><td>0</td></tr>",
                            "<tr><td>20</td><td>4</td><td>2</td><td>4</td></tr>",
                            "<tr><td>21</td><td>4</td><td>3</td><td>0</td></tr>",
                            "<tr><td>22</td><td>4</td><td>4</td><td>3</td></tr>",
                            "<tr><td>23</td><td>4</td><td>5</td><td>2</td></tr>",
                            "<tr><td>24</td><td>4</td><td>6</td><td>0</td></tr>",
                            "<tr><td>25</td><td>5</td><td>1</td><td>4</td></tr>",
                            "<tr><td>26</td><td>5</td><td>2</td><td>0</td></tr>",
                            "<tr><td>27</td><td>5</td><td>3</td><td>3</td></tr>",
                            "<tr><td>28</td><td>5</td><td>4</td><td>0</td></tr>",
                            "<tr><td>29</td><td>5</td><td>5</td><td>5</td></tr>",
                            "<tr><td>30</td><td>5</td><td>6</td><td>2</td></tr>",
                            "<tr><td>31</td><td>6</td><td>1</td><td>4</td></tr>",
                            "<tr><td>32</td><td>6</td><td>2</td><td>5</td></tr>",
                            "<tr><td>33</td><td>6</td><td>3</td><td>3</td></tr>",
                            "<tr><td>34</td><td>6</td><td>4</td><td>2</td></tr>",
                            "<tr><td>35</td><td>6</td><td>5</td><td>1</td></tr>",
                            "<tr><td>36</td><td>6</td><td>6</td><td>4</td></tr>",
                            "</table>"
                        ]
                    }
                }
            ],
            "execution_count": 8
        }
    ]
}